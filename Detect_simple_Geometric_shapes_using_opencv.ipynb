{
 "cells": [
  {
   "cell_type": "code",
   "execution_count": 9,
   "metadata": {},
   "outputs": [],
   "source": [
    "import cv2\n",
    "import numpy as np"
   ]
  },
  {
   "cell_type": "code",
   "execution_count": 11,
   "metadata": {},
   "outputs": [
    {
     "name": "stdout",
     "output_type": "stream",
     "text": [
      "[[[258 252]]\n",
      "\n",
      " [[309 341]]\n",
      "\n",
      " [[207 340]]]\n"
     ]
    }
   ],
   "source": [
    "img = cv2.imread('images/geo_shape.jpg')\n",
    "imgGrey = cv2.cvtColor(img,cv2.COLOR_BGR2GRAY)\n",
    "_,thresh = cv2.threshold(imgGrey,240,255,cv2.THRESH_BINARY)\n",
    "contours, _ = cv2.findContours(thresh,cv2.RETR_TREE,cv2.CHAIN_APPROX_NONE)\n",
    "\n",
    "cv2.imshow('img',img)\n",
    "for contour in contours:\n",
    "    approx = cv2.approxPolyDP(contour,0.01*cv2.arcLength(contour,True),True)\n",
    "    cv2.drawContours(img,[approx],0,(0,0,0),5)\n",
    "    x = approx.ravel()[0]\n",
    "    y = approx.ravel()[1]-5\n",
    "    if len(approx)==3:\n",
    "        print(approx)\n",
    "        cv2.putText(img,\"Traingle\",(x,y),cv2.FONT_HERSHEY_COMPLEX,0.5,(0,0,0))\n",
    "    elif len(approx)==4:\n",
    "        x1,y1,w,h = cv2.boundingRect(approx)\n",
    "        aspectRatio = float(w)/h\n",
    "        if aspectRatio >=0.95 and aspectRatio <= 1.05:\n",
    "            cv2.putText(img,\"Square\",(x,y),cv2.FONT_HERSHEY_COMPLEX,0.5,(0,0,0))\n",
    "        else:\n",
    "            cv2.putText(img,\"Rectangle\",(x,y),cv2.FONT_HERSHEY_COMPLEX,0.5,(0,0,0))\n",
    "    elif len(approx)==5:\n",
    "        cv2.putText(img,\"Pentagon\",(x,y),cv2.FONT_HERSHEY_COMPLEX,0.5,(0,0,0))\n",
    "    elif len(approx)==10:\n",
    "        cv2.putText(img,\"Star\",(x,y),cv2.FONT_HERSHEY_COMPLEX,0.5,(0,0,0))\n",
    "cv2.imshow(\"shapes\",img)\n",
    "cv2.waitKey(0)\n",
    "cv2.destroyAllWindows()"
   ]
  },
  {
   "cell_type": "code",
   "execution_count": null,
   "metadata": {},
   "outputs": [],
   "source": []
  }
 ],
 "metadata": {
  "kernelspec": {
   "display_name": "base",
   "language": "python",
   "name": "python3"
  },
  "language_info": {
   "codemirror_mode": {
    "name": "ipython",
    "version": 3
   },
   "file_extension": ".py",
   "mimetype": "text/x-python",
   "name": "python",
   "nbconvert_exporter": "python",
   "pygments_lexer": "ipython3",
   "version": "3.10.9"
  },
  "orig_nbformat": 4
 },
 "nbformat": 4,
 "nbformat_minor": 2
}
