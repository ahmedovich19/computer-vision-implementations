{
 "cells": [
  {
   "cell_type": "code",
   "execution_count": 4,
   "metadata": {},
   "outputs": [],
   "source": [
    "import cv2\n",
    "import pytesseract"
   ]
  },
  {
   "cell_type": "code",
   "execution_count": 7,
   "metadata": {},
   "outputs": [],
   "source": [
    "pytesseract.pytesseract.tesseract_cmd = r\"C:\\Program Files\\Tesseract-OCR\\tesseract.exe\""
   ]
  },
  {
   "cell_type": "code",
   "execution_count": 38,
   "metadata": {},
   "outputs": [
    {
     "name": "stdout",
     "output_type": "stream",
     "text": [
      "th, I know that woman. She used to live with a Bock\n",
      "of birds on Lenox Avenue. Rnow her husband, too. He fell for\n",
      "an eighteen-year-old girl with one of those deepdown, spooky\n",
      "Joves that made him so sad and happy he shot her just to keep\n",
      "the feeling going. When the woman, her name is Violet, went\n",
      "to the funeral to see the girl and to cut her dead fave they threw\n",
      "her to the floor and out of the church, She ran, then, through\n",
      "all that snow, and when she got back to her apartment she took\n",
      "the birds from their cages and set them out the windows to\n",
      "freeze or Ay, including the parrot that said, “I love you.”\n",
      "\n"
     ]
    }
   ],
   "source": [
    "img = cv2.imread('images/book_page_two.jpg')\n",
    "img = cv2.resize(img,None,fx=0.5,fy=0.5)\n",
    "gray = cv2.cvtColor(img,cv2.COLOR_BGR2GRAY)\n",
    "adaptive_threshold = cv2.adaptiveThreshold(gray,255,cv2.ADAPTIVE_THRESH_GAUSSIAN_C,cv2.THRESH_BINARY,85,11)\n",
    "config = \"--psm 3\"\n",
    "text = pytesseract.image_to_string(adaptive_threshold,config=config,lang=\"eng\")\n",
    "print(text)\n",
    "cv2.imshow('gray',gray)\n",
    "cv2.imshow('adaptive threshold',adaptive_threshold)\n",
    "cv2.waitKey(0)\n",
    "cv2.destroyAllWindows()"
   ]
  },
  {
   "cell_type": "code",
   "execution_count": null,
   "metadata": {},
   "outputs": [],
   "source": []
  }
 ],
 "metadata": {
  "kernelspec": {
   "display_name": "base",
   "language": "python",
   "name": "python3"
  },
  "language_info": {
   "codemirror_mode": {
    "name": "ipython",
    "version": 3
   },
   "file_extension": ".py",
   "mimetype": "text/x-python",
   "name": "python",
   "nbconvert_exporter": "python",
   "pygments_lexer": "ipython3",
   "version": "3.10.9"
  },
  "orig_nbformat": 4
 },
 "nbformat": 4,
 "nbformat_minor": 2
}
