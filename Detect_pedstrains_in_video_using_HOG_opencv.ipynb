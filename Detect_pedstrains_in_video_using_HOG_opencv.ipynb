{
 "cells": [
  {
   "cell_type": "code",
   "execution_count": 3,
   "metadata": {},
   "outputs": [],
   "source": [
    "import cv2\n",
    "import numpy as np\n",
    "from imutils.object_detection import non_max_suppression"
   ]
  },
  {
   "cell_type": "code",
   "execution_count": 4,
   "metadata": {},
   "outputs": [],
   "source": [
    "filename = 'videos/pedestrians.mp4'\n",
    "file_size = (1920,1080)\n",
    "output_filename = 'videos/pedestrians_hog.mp4'\n",
    "output_frames_per_second = 20.0\n",
    "\n",
    "def main():\n",
    "    hog = cv2.HOGDescriptor()\n",
    "    hog.setSVMDetector(cv2.HOGDescriptor_getDefaultPeopleDetector())\n",
    "    cap = cv2.VideoCapture(filename)\n",
    "    fourcc = cv2.VideoWriter_fourcc(*'mp4v')\n",
    "    result = cv2.VideoWriter(output_filename,fourcc,output_frames_per_second,file_size)\n",
    "    \n",
    "    while cap.isOpened():\n",
    "        success,frame = cap.read()\n",
    "        #Do we have a video frame?\n",
    "        if success:\n",
    "            orig_frame = frame.copy()\n",
    "            (bounding_boxes,weights) = hog.detectMultiScale(frame,winStride=(4,4),padding=(8,8),scale=0.01)\n",
    "            for (x,y,w,h) in bounding_boxes:\n",
    "                cv2.rectangle(orig_frame,(x,y),(x+w,y+h),(0,0,255),2)\n",
    "            bounding_boxes = np.array([[x,y,x+w,y+h] for (x,y,w,h) in bounding_boxes])\n",
    "            selection = non_max_suppression(bounding_boxes)\n",
    "            for (x1,y1,x2,y2) in selection:\n",
    "                cv2.rectangle(frame,(x1,y1),(x2,y2),(0,255,0),4)\n",
    "            #write the frame to the output video file\n",
    "            result.write(frame)\n",
    "            cv2.imshow(\"frame\",frame)\n",
    "            key = cv2.waitKey(30)\n",
    "            if key ==27:\n",
    "                break\n",
    "        else:\n",
    "            break\n",
    "    cap.release()\n",
    "    result.release()\n",
    "    cv2.destroyAllWindows()\n",
    "main()\n",
    "\n",
    "\n",
    "\n",
    "\n"
   ]
  },
  {
   "cell_type": "code",
   "execution_count": null,
   "metadata": {},
   "outputs": [],
   "source": []
  }
 ],
 "metadata": {
  "kernelspec": {
   "display_name": "base",
   "language": "python",
   "name": "python3"
  },
  "language_info": {
   "codemirror_mode": {
    "name": "ipython",
    "version": 3
   },
   "file_extension": ".py",
   "mimetype": "text/x-python",
   "name": "python",
   "nbconvert_exporter": "python",
   "pygments_lexer": "ipython3",
   "version": "3.10.9"
  },
  "orig_nbformat": 4
 },
 "nbformat": 4,
 "nbformat_minor": 2
}
