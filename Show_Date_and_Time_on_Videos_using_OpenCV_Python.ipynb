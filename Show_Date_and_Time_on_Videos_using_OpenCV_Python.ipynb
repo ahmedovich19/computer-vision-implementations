{
 "cells": [
  {
   "cell_type": "code",
   "execution_count": 1,
   "metadata": {},
   "outputs": [],
   "source": [
    "import cv2\n",
    "import datetime"
   ]
  },
  {
   "cell_type": "code",
   "execution_count": 2,
   "metadata": {},
   "outputs": [
    {
     "name": "stdout",
     "output_type": "stream",
     "text": [
      "1280.0\n",
      "720.0\n"
     ]
    }
   ],
   "source": [
    "cap = cv2.VideoCapture(0)\n",
    "#print(cap.get(cv2.CAP_PROP_FRAME_WIDTH))\n",
    "#print(cap.get(cv2.CAP_PROP_FRAME_HEIGHT))\n",
    "cap.set(3, 3000)\n",
    "cap.set(4, 3000)\n",
    "print(cap.get(3))\n",
    "print(cap.get(4))\n",
    "while(cap.isOpened()):#open camera\n",
    "    ret, frame = cap.read() #read frames         \n",
    "    if ret == True:#if there is a frame         \n",
    "\n",
    "       font = cv2.FONT_HERSHEY_SIMPLEX             \n",
    "       text = 'Width: '+ str(cap.get(3)) + ' Height:' + str(cap.get(4))             \n",
    "       datet = str(datetime.datetime.now())             \n",
    "       frame = cv2.putText(frame, text, (10, 50), font, 1,             \n",
    "                           (0, 255, 255), 2)              \n",
    "       frame = cv2.putText(frame, datet, (10, 100), font, 1,             \n",
    "                           (0, 255, 255), 2)             \n",
    "       cv2.imshow('frame', frame)             \n",
    "\n",
    "       if cv2.waitKey(1)== ord('q'):             #wait key from keyboard             \n",
    "         break                   \n",
    "    else:      #if ret =false         \n",
    "        break               \n",
    "\n",
    "cap.release()# close camera\n",
    "cv2.destroyAllWindows() #close window\n"
   ]
  }
 ],
 "metadata": {
  "kernelspec": {
   "display_name": "base",
   "language": "python",
   "name": "python3"
  },
  "language_info": {
   "codemirror_mode": {
    "name": "ipython",
    "version": 3
   },
   "file_extension": ".py",
   "mimetype": "text/x-python",
   "name": "python",
   "nbconvert_exporter": "python",
   "pygments_lexer": "ipython3",
   "version": "3.10.9"
  },
  "orig_nbformat": 4
 },
 "nbformat": 4,
 "nbformat_minor": 2
}
