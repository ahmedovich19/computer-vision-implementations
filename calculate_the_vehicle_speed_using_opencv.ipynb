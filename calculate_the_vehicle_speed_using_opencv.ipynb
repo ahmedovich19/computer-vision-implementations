{
 "cells": [
  {
   "cell_type": "code",
   "execution_count": 5,
   "metadata": {},
   "outputs": [],
   "source": [
    "import cv2\n",
    "import time"
   ]
  },
  {
   "cell_type": "code",
   "execution_count": 6,
   "metadata": {},
   "outputs": [
    {
     "ename": "error",
     "evalue": "OpenCV(4.8.0) D:\\a\\opencv-python\\opencv-python\\opencv\\modules\\highgui\\src\\window.cpp:1272: error: (-2:Unspecified error) The function is not implemented. Rebuild the library with Windows, GTK+ 2.x or Cocoa support. If you are on Ubuntu or Debian, install libgtk2.0-dev and pkg-config, then re-run cmake or configure script in function 'cvShowImage'\n",
     "output_type": "error",
     "traceback": [
      "\u001b[1;31m---------------------------------------------------------------------------\u001b[0m",
      "\u001b[1;31merror\u001b[0m                                     Traceback (most recent call last)",
      "Cell \u001b[1;32mIn[6], line 53\u001b[0m\n\u001b[0;32m     51\u001b[0m             cv2\u001b[39m.\u001b[39mputText(img,\u001b[39m\"\u001b[39m\u001b[39mCalculting\u001b[39m\u001b[39m\"\u001b[39m,(\u001b[39m100\u001b[39m,\u001b[39m200\u001b[39m),cv2\u001b[39m.\u001b[39mFONT_HERSHEY_SIMPLEX,\u001b[39m1\u001b[39m,(\u001b[39m0\u001b[39m,\u001b[39m255\u001b[39m,\u001b[39m0\u001b[39m),\u001b[39m3\u001b[39m)\n\u001b[0;32m     52\u001b[0m             \u001b[39mbreak\u001b[39;00m\n\u001b[1;32m---> 53\u001b[0m cv2\u001b[39m.\u001b[39;49mimshow(\u001b[39m'\u001b[39;49m\u001b[39mvideo\u001b[39;49m\u001b[39m'\u001b[39;49m,img)\n\u001b[0;32m     54\u001b[0m \u001b[39mif\u001b[39;00m cv2\u001b[39m.\u001b[39mwaitKey(\u001b[39m33\u001b[39m) \u001b[39m==\u001b[39m\u001b[39m27\u001b[39m:\n\u001b[0;32m     55\u001b[0m     \u001b[39mbreak\u001b[39;00m\n",
      "\u001b[1;31merror\u001b[0m: OpenCV(4.8.0) D:\\a\\opencv-python\\opencv-python\\opencv\\modules\\highgui\\src\\window.cpp:1272: error: (-2:Unspecified error) The function is not implemented. Rebuild the library with Windows, GTK+ 2.x or Cocoa support. If you are on Ubuntu or Debian, install libgtk2.0-dev and pkg-config, then re-run cmake or configure script in function 'cvShowImage'\n"
     ]
    }
   ],
   "source": [
    "cascade_src = 'files/cars1.xml'\n",
    "video_src = 'videos/video3.mp4'\n",
    "#line a\n",
    "ax1 = 70\n",
    "ay = 90\n",
    "ax2 = 230\n",
    "#line b\n",
    "bx1 = 15\n",
    "by = 125\n",
    "bx2 = 225\n",
    "\n",
    "def Speed_Cal(time):\n",
    "    try:\n",
    "        Speed = (9.144/1000)/(time/3600)\n",
    "        return Speed\n",
    "    except ZeroDivisionError:\n",
    "        print(\"can not devide by zero\")\n",
    "\n",
    "i =1 \n",
    "start_time = time.time()\n",
    "#video\n",
    "cap = cv2.VideoCapture(video_src)\n",
    "car_cascade = cv2.CascadeClassifier(cascade_src)\n",
    "\n",
    "while True:\n",
    "    ret,img = cap.read()\n",
    "    if(type(img)==type(None)):\n",
    "        break\n",
    "    blurred = cv2.blur(img,ksize=(15,15))\n",
    "    gray = cv2.cvtColor(blurred,cv2.COLOR_BGR2GRAY)\n",
    "    cars = car_cascade.detectMultiScale(gray,1.1,2)\n",
    "    #line a #i know road has got\n",
    "    cv2.line(img,(ax1,ay),(ax2,ay),(255,0,0),2)\n",
    "    #line b\n",
    "    cv2.line(img,(bx1,by),(bx2,by),(255,0,0),2)\n",
    "    for(x,y,w,h) in cars:\n",
    "        cv2.rectangle(img,(x,y),(x+w,y+h),(0,0,255),2)\n",
    "        cv2.circle(img,(int((x+x+w)/2),int((y+y+h)/2)),5,(0,255,0),-1)\n",
    "        while int(ay)== int((y+y+h)/2):\n",
    "            cv2.line(img,(ax1,ay),(ax2,ay),(0,255,0),2)\n",
    "            start_time = time.time()\n",
    "            break\n",
    "        while int(ay)<=int((y+y+h)/2):\n",
    "            if int(by)<=int((y+y+h)/2) & int(by+10) >= int((y+y+h)/2):\n",
    "                cv2.line(img,(bx1,by),(bx2,by),(0,255,0),2)\n",
    "                Speed = Speed_Cal(time.time()-start_time)\n",
    "                print(\"Car Number \"+str(i)+\" Speed: \"+str(Speed)+\" KM/H \")\n",
    "                i = i +1\n",
    "                break\n",
    "            else:\n",
    "                cv2.putText(img,\"Calculting\",(100,200),cv2.FONT_HERSHEY_SIMPLEX,1,(0,255,0),3)\n",
    "                break\n",
    "    cv2.imshow('video',img)\n",
    "    if cv2.waitKey(33) ==27:\n",
    "        break\n",
    "cap.release()\n",
    "cv2.destroyAllWindows()\n"
   ]
  }
 ],
 "metadata": {
  "kernelspec": {
   "display_name": "base",
   "language": "python",
   "name": "python3"
  },
  "language_info": {
   "codemirror_mode": {
    "name": "ipython",
    "version": 3
   },
   "file_extension": ".py",
   "mimetype": "text/x-python",
   "name": "python",
   "nbconvert_exporter": "python",
   "pygments_lexer": "ipython3",
   "version": "3.10.9"
  },
  "orig_nbformat": 4
 },
 "nbformat": 4,
 "nbformat_minor": 2
}
