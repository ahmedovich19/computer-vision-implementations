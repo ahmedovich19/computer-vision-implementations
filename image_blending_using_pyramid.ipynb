{
 "cells": [
  {
   "cell_type": "code",
   "execution_count": 19,
   "metadata": {},
   "outputs": [
    {
     "name": "stdout",
     "output_type": "stream",
     "text": [
      "(320, 320, 3)\n",
      "(320, 320, 3)\n"
     ]
    }
   ],
   "source": [
    "import cv2\n",
    "import numpy as np\n",
    "apple = cv2.imread('images/apple.jpg')\n",
    "orange = cv2.imread('images/orange.jpg')\n",
    "print(apple.shape)\n",
    "print(orange.shape)\n",
    "apple_orange = np.hstack((apple[:,:160],orange[:,160:]))"
   ]
  },
  {
   "cell_type": "code",
   "execution_count": 20,
   "metadata": {},
   "outputs": [],
   "source": [
    "#generate Gaussian pyramid for apple\n",
    "apple_copy = apple.copy()\n",
    "gaussian_pyramid_apple = [apple_copy]\n",
    "for i in range(6):\n",
    "    apple_copy = cv2.pyrDown(apple_copy)\n",
    "    gaussian_pyramid_apple.append(apple_copy)\n",
    "    "
   ]
  },
  {
   "cell_type": "code",
   "execution_count": 21,
   "metadata": {},
   "outputs": [],
   "source": [
    "#generate Gaussian pyramid for orange\n",
    "orange_copy = orange.copy()\n",
    "gaussian_pyramid_orange = [orange_copy]\n",
    "for i in range(6):\n",
    "    orange_copy = cv2.pyrDown(orange_copy)\n",
    "    gaussian_pyramid_orange.append(orange_copy)"
   ]
  },
  {
   "cell_type": "code",
   "execution_count": 22,
   "metadata": {},
   "outputs": [],
   "source": [
    "#generate Laplacian pyramid for apple\n",
    "apple_copy = gaussian_pyramid_apple[5]\n",
    "lp_apple = [apple_copy]\n",
    "for i in range(5,0,-1):\n",
    "    gaussian_expanded = cv2.pyrUp(gaussian_pyramid_apple[i])\n",
    "    laplacian = cv2.subtract(gaussian_pyramid_apple[i-1],gaussian_expanded)\n",
    "    lp_apple.append(laplacian)"
   ]
  },
  {
   "cell_type": "code",
   "execution_count": 23,
   "metadata": {},
   "outputs": [],
   "source": [
    "#generate Laplacian pyramid for orange\n",
    "orange_copy = gaussian_pyramid_orange[5]\n",
    "lp_orange = [orange_copy]\n",
    "for i in range(5,0,-1):\n",
    "    gaussian_expanded = cv2.pyrUp(gaussian_pyramid_orange[i])\n",
    "    laplacian = cv2.subtract(gaussian_pyramid_orange[i-1],gaussian_expanded)\n",
    "    lp_orange.append(laplacian)"
   ]
  },
  {
   "cell_type": "code",
   "execution_count": 24,
   "metadata": {},
   "outputs": [],
   "source": [
    "#Add Left and right halves of images ineach level\n",
    "apple_orange_pyramid = []\n",
    "for apple_lap,orange_lap in zip(lp_apple,lp_orange):\n",
    "    cols, rows,ch = apple_lap.shape\n",
    "    laplacian = np.hstack((apple_lap[:,0:int(cols/2)],orange_lap[:,int(cols/2):]))\n",
    "    apple_orange_pyramid.append(laplacian)\n",
    "\n",
    "apple_orange_reconstruct = apple_orange_pyramid[0]\n",
    "for i in range(1,6):\n",
    "    apple_orange_reconstruct = cv2.pyrUp(apple_orange_reconstruct)\n",
    "    apple_orange_reconstruct = cv2.add(apple_orange_pyramid[i],apple_orange_reconstruct)\n",
    "\n",
    "cv2.imshow(\"apple\",apple)\n",
    "cv2.imshow(\"orange\",orange)\n",
    "cv2.imshow(\"apple_orange\",apple_orange)\n",
    "cv2.waitKey(0)\n",
    "cv2.destroyAllWindows()\n"
   ]
  }
 ],
 "metadata": {
  "kernelspec": {
   "display_name": "base",
   "language": "python",
   "name": "python3"
  },
  "language_info": {
   "codemirror_mode": {
    "name": "ipython",
    "version": 3
   },
   "file_extension": ".py",
   "mimetype": "text/x-python",
   "name": "python",
   "nbconvert_exporter": "python",
   "pygments_lexer": "ipython3",
   "version": "3.10.9"
  },
  "orig_nbformat": 4
 },
 "nbformat": 4,
 "nbformat_minor": 2
}
