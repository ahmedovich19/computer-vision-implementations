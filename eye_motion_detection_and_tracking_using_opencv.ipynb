{
 "cells": [
  {
   "cell_type": "code",
   "execution_count": 16,
   "metadata": {},
   "outputs": [],
   "source": [
    "import cv2"
   ]
  },
  {
   "cell_type": "code",
   "execution_count": 17,
   "metadata": {},
   "outputs": [],
   "source": [
    "cap = cv2.VideoCapture(0)\n",
    "while True:\n",
    "    ret,frame= cap.read()\n",
    "    if ret is False:\n",
    "        break\n",
    "    roi = frame[0:1280,0:1280]\n",
    "    rows,cols,_ = roi.shape\n",
    "    gray_roi = cv2.cvtColor(roi,cv2.COLOR_BGR2GRAY)\n",
    "    gray_roi = cv2.GaussianBlur(gray_roi,(7,7),0)\n",
    "    _, threshold = cv2.threshold(gray_roi,3,255,cv2.THRESH_BINARY_INV)\n",
    "    contours,_ = cv2.findContours(threshold,cv2.RETR_TREE,cv2.CHAIN_APPROX_SIMPLE)\n",
    "    contour = sorted(contours,key=lambda x:cv2.contourArea(x),reverse=True)\n",
    "    for cnt in contour:\n",
    "        (x,y,w,h)=cv2.boundingRect(cnt)\n",
    "        cv2.rectangle(roi,(x,y),(x+w,y+h),(255,0,0),2)\n",
    "        cv2.line(roi,(x+int(w/2),0),(x+int(w/2),rows),(0,255,0),2)\n",
    "        cv2.line(roi,(0,y+int(h/2)),(cols,y+int(h/2)),(0,255,0),2)\n",
    "        break\n",
    "    cv2.imshow('gray_roi',gray_roi)\n",
    "    key = cv2.waitKey(30)\n",
    "    if key ==27:\n",
    "        break\n",
    "cv2.destroyAllWindows()\n",
    "cap.release()"
   ]
  },
  {
   "cell_type": "code",
   "execution_count": null,
   "metadata": {},
   "outputs": [],
   "source": []
  }
 ],
 "metadata": {
  "kernelspec": {
   "display_name": "base",
   "language": "python",
   "name": "python3"
  },
  "language_info": {
   "codemirror_mode": {
    "name": "ipython",
    "version": 3
   },
   "file_extension": ".py",
   "mimetype": "text/x-python",
   "name": "python",
   "nbconvert_exporter": "python",
   "pygments_lexer": "ipython3",
   "version": "3.10.9"
  },
  "orig_nbformat": 4
 },
 "nbformat": 4,
 "nbformat_minor": 2
}
