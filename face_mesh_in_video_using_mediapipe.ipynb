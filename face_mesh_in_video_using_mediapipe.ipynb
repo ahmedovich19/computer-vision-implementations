{
 "cells": [
  {
   "cell_type": "code",
   "execution_count": null,
   "metadata": {
    "vscode": {
     "languageId": "plaintext"
    }
   },
   "outputs": [],
   "source": [
    "import cv2\n",
    "import mediapipe as mp"
   ]
  },
  {
   "cell_type": "code",
   "execution_count": null,
   "metadata": {
    "vscode": {
     "languageId": "plaintext"
    }
   },
   "outputs": [],
   "source": [
    "mp_face_mesh = mp.solutions.face_mesh.FaceMesh()\n",
    "cap = cv2.VideoCapture(0)\n",
    "while True:\n",
    "    ret, image = cap.read()\n",
    "    if ret is not True:\n",
    "        break\n",
    "        height,width,_ = image.shape\n",
    "        rgb_image = cv2.cvtColor(image,cv2.COLOR_BGR2RGB)\n",
    "        result = mp_Face_mesh.process(rgb_image)\n",
    "for facial_landmarks in result.multi_face_landmarks:\n",
    "    for i in range(0,468):\n",
    "    pt1 = facial_landmarks.landmark[i]\n",
    "    print(pt1)\n",
    "    x = int (pt1.x*width)\n",
    "    y=int(pt1.y * height)\n",
    "    cv2.circle(image,(x,y),2,(100,100,0))\n",
    "cv2.imshow(\"image\",image)\n",
    "cv2.waitKey(1)\n",
    "cv2.destroyAllWindows()\n",
    "cap.release()"
   ]
  }
 ],
 "metadata": {
  "language_info": {
   "name": "python"
  },
  "orig_nbformat": 4
 },
 "nbformat": 4,
 "nbformat_minor": 2
}
