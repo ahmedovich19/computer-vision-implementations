{
 "cells": [
  {
   "cell_type": "code",
   "execution_count": 10,
   "metadata": {},
   "outputs": [],
   "source": [
    "import cv2"
   ]
  },
  {
   "cell_type": "code",
   "execution_count": 11,
   "metadata": {},
   "outputs": [],
   "source": [
    "filename = 'images/pedestrains.jpg'\n",
    "#cv2.imshow('filename',filename)"
   ]
  },
  {
   "cell_type": "code",
   "execution_count": 12,
   "metadata": {},
   "outputs": [],
   "source": [
    "def main():\n",
    "    #create a HOGDescriptor object-\n",
    "    hog = cv2.HOGDescriptor()\n",
    "    hog.setSVMDetector(cv2.HOGDescriptor_getDefaultPeopleDetector())\n",
    "    image= cv2.imread(filename)\n",
    "    (bounding_boxes,weights) = hog.detectMultiScale(image,winStride=(4,4),padding=(8,8),scale=1.05)\n",
    "    for (x,y,w,h) in bounding_boxes:\n",
    "        cv2.rectangle(image,(x,y),(x+w,y+h),(0,0,255),4)\n",
    "    #removing the jpg part and create new output\n",
    "    size = len(filename)\n",
    "    new_filename = filename[:size-4]\n",
    "    new_filename = new_filename + '_detect.jpg'\n",
    "\n",
    "    #save the image in the working directory\n",
    "    cv2.imwrite(new_filename,image)\n",
    "    cv2.imshow('Image',image)\n",
    "    cv2.waitKey(0)\n",
    "    cv2.destroyAllWindows()\n",
    "main()\n",
    "\n"
   ]
  },
  {
   "cell_type": "code",
   "execution_count": null,
   "metadata": {},
   "outputs": [],
   "source": []
  }
 ],
 "metadata": {
  "kernelspec": {
   "display_name": "base",
   "language": "python",
   "name": "python3"
  },
  "language_info": {
   "codemirror_mode": {
    "name": "ipython",
    "version": 3
   },
   "file_extension": ".py",
   "mimetype": "text/x-python",
   "name": "python",
   "nbconvert_exporter": "python",
   "pygments_lexer": "ipython3",
   "version": "3.10.9"
  },
  "orig_nbformat": 4
 },
 "nbformat": 4,
 "nbformat_minor": 2
}
