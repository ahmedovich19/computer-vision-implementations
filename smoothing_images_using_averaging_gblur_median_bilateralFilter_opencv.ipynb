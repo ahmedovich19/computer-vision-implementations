{
 "cells": [
  {
   "cell_type": "code",
   "execution_count": 1,
   "metadata": {},
   "outputs": [],
   "source": [
    "import cv2\n",
    "import numpy as np\n",
    "from matplotlib import pyplot as plt"
   ]
  },
  {
   "cell_type": "code",
   "execution_count": 3,
   "metadata": {},
   "outputs": [],
   "source": [
    "img = cv2.imread('images/balloons_noisy.jpg')\n",
    "lena = cv2.imread('images/lena.jpg')\n",
    "averaging = cv2.blur(img,(11,11))\n",
    "gblur = cv2.GaussianBlur(img,(5,5),0)\n",
    "median = cv2.medianBlur(img,5)\n",
    "bilateralFilter = cv2.bilateralFilter(lena,9,75,75)\n",
    "\n",
    "cv2.imshow('img',img)\n",
    "cv2.imshow('averaging',averaging)\n",
    "cv2.imshow('gblur',gblur)\n",
    "cv2.imshow('median',median)\n",
    "cv2.imshow('bilateralFilter',bilateralFilter)\n",
    "cv2.waitKey(0)\n",
    "cv2.destroyAllWindows()\n"
   ]
  },
  {
   "cell_type": "code",
   "execution_count": null,
   "metadata": {},
   "outputs": [],
   "source": []
  }
 ],
 "metadata": {
  "kernelspec": {
   "display_name": "base",
   "language": "python",
   "name": "python3"
  },
  "language_info": {
   "codemirror_mode": {
    "name": "ipython",
    "version": 3
   },
   "file_extension": ".py",
   "mimetype": "text/x-python",
   "name": "python",
   "nbconvert_exporter": "python",
   "pygments_lexer": "ipython3",
   "version": "3.10.9"
  },
  "orig_nbformat": 4
 },
 "nbformat": 4,
 "nbformat_minor": 2
}
