{
 "cells": [
  {
   "cell_type": "code",
   "execution_count": null,
   "metadata": {},
   "outputs": [],
   "source": [
    "import numpy as np\n",
    "import cv2 as cv"
   ]
  },
  {
   "cell_type": "code",
   "execution_count": null,
   "metadata": {},
   "outputs": [],
   "source": [
    "img = np.zeros((300,512,3),np.uint8)\n",
    "cv.namedWindow('image')\n",
    "cv.createTrackbar('B','image',0,255,nothing)\n",
    "cv.createTrackbar('G','image',0,255,nothing)\n",
    "cv.createTrackbar('R','image',0,255,nothing)\n",
    "switch = '0 : OFF\\n 1 : ON'\n",
    "cv.createTrackbar(switch,'image',0,1,nothing)\n",
    "while(True):\n",
    "    cv.imshow('image',img)\n",
    "    k = cv.waitKey(1) & 0xFF\n",
    "    if k== 27:\n",
    "        break\n",
    "    b= cv.getTrackbarPos('B','image')\n",
    "    g = cv.getTrackbarPos('G','image')\n",
    "    r = cv.getTrackbarPos('R','image')\n",
    "    s = cv.getTrackbarPos(switch,'image')\n",
    "\n",
    "    if s==0:\n",
    "        img[:] =0\n",
    "    else:\n",
    "        img[:] = [b,g,r]\n",
    "cv.destroyAllWindows()"
   ]
  },
  {
   "cell_type": "code",
   "execution_count": null,
   "metadata": {},
   "outputs": [],
   "source": []
  }
 ],
 "metadata": {
  "kernelspec": {
   "display_name": "base",
   "language": "python",
   "name": "python3"
  },
  "language_info": {
   "codemirror_mode": {
    "name": "ipython",
    "version": 3
   },
   "file_extension": ".py",
   "mimetype": "text/x-python",
   "name": "python",
   "nbconvert_exporter": "python",
   "pygments_lexer": "ipython3",
   "version": "3.10.9"
  },
  "orig_nbformat": 4
 },
 "nbformat": 4,
 "nbformat_minor": 2
}
