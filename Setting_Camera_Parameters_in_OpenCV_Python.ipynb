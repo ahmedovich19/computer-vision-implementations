{
 "cells": [
  {
   "cell_type": "code",
   "execution_count": 6,
   "metadata": {},
   "outputs": [],
   "source": [
    "import cv2"
   ]
  },
  {
   "cell_type": "code",
   "execution_count": 7,
   "metadata": {},
   "outputs": [
    {
     "name": "stdout",
     "output_type": "stream",
     "text": [
      "640.0\n",
      "480.0\n",
      "1280.0\n",
      "720.0\n"
     ]
    }
   ],
   "source": [
    "cap = cv2.VideoCapture(0)\n",
    "print(cap.get(cv2.CAP_PROP_FRAME_WIDTH))\n",
    "print(cap.get(cv2.CAP_PROP_FRAME_HEIGHT))\n",
    "\n",
    "cap.set(3, 3000) #set your frame width\n",
    "cap.set(4, 3000) #set your frame height\n",
    "\n",
    "print(cap.get(3)) #get your frame width\n",
    "print(cap.get(4)) #get your frame height\n",
    "\n",
    "while(cap.isOpened()):#while camera is open\n",
    "    ret, frame = cap.read()#read frames        \n",
    "    if ret == True: #still there is a frame to process        \n",
    "      gray = cv2.cvtColor(frame, cv2.COLOR_BGR2GRAY)               \n",
    "      cv2.imshow('frame', gray)                 \n",
    "      if cv2.waitKey(1) & 0xFF == ord('q'):#wait key from keyboard                 \n",
    "        break                     \n",
    "    else: #if ret=false         \n",
    "        break              \n",
    "\n",
    "cap.release()#close camera\n",
    "cv2.destroyAllWindows()#close window"
   ]
  }
 ],
 "metadata": {
  "kernelspec": {
   "display_name": "base",
   "language": "python",
   "name": "python3"
  },
  "language_info": {
   "codemirror_mode": {
    "name": "ipython",
    "version": 3
   },
   "file_extension": ".py",
   "mimetype": "text/x-python",
   "name": "python",
   "nbconvert_exporter": "python",
   "pygments_lexer": "ipython3",
   "version": "3.10.9"
  },
  "orig_nbformat": 4
 },
 "nbformat": 4,
 "nbformat_minor": 2
}
