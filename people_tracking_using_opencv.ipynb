{
 "cells": [
  {
   "cell_type": "code",
   "execution_count": 1,
   "metadata": {},
   "outputs": [],
   "source": [
    "import cv2\n",
    "import numpy as np"
   ]
  },
  {
   "cell_type": "code",
   "execution_count": 2,
   "metadata": {},
   "outputs": [
    {
     "name": "stdout",
     "output_type": "stream",
     "text": [
      "(576, 768, 3)\n"
     ]
    },
    {
     "ename": "AttributeError",
     "evalue": "'cv2.VideoWriter' object has no attribute 'out'",
     "output_type": "error",
     "traceback": [
      "\u001b[1;31m---------------------------------------------------------------------------\u001b[0m",
      "\u001b[1;31mAttributeError\u001b[0m                            Traceback (most recent call last)",
      "Cell \u001b[1;32mIn[2], line 32\u001b[0m\n\u001b[0;32m     30\u001b[0m cv2\u001b[39m.\u001b[39mdestroyAllWindows()\n\u001b[0;32m     31\u001b[0m cap\u001b[39m.\u001b[39mrelease()\n\u001b[1;32m---> 32\u001b[0m out\u001b[39m.\u001b[39;49mout\u001b[39m.\u001b[39mrelease()\n",
      "\u001b[1;31mAttributeError\u001b[0m: 'cv2.VideoWriter' object has no attribute 'out'"
     ]
    }
   ],
   "source": [
    "cap = cv2.VideoCapture('videos/MOT_Challenge_Public_Detections.mp4')\n",
    "frame_width = int(cap.get(cv2.CAP_PROP_FRAME_WIDTH))\n",
    "frame_height = int(cap.get(cv2.CAP_PROP_FRAME_HEIGHT))\n",
    "fourcc = cv2.VideoWriter_fourcc('X','V','I','D')# *XVID\n",
    "out = cv2.VideoWriter('output.mp4',fourcc,30,(1280,720))\n",
    "ret,frame1 = cap.read()\n",
    "ret, frame2 =cap.read()\n",
    "print(frame1.shape)\n",
    "while cap.isOpened():\n",
    "    diff = cv2.absdiff(frame1,frame2)\n",
    "    gray = cv2.cvtColor(diff,cv2.COLOR_BGR2GRAY)\n",
    "    blur = cv2.GaussianBlur(gray,(5,5),0)\n",
    "    _,thresh = cv2.threshold(blur,60,255,cv2.THRESH_BINARY)\n",
    "    dilated = cv2.dilate(thresh,None,iterations=10)\n",
    "    contours,_ = cv2.findContours(dilated,cv2.RETR_TREE,cv2.CHAIN_APPROX_NONE)\n",
    "    for contour in contours:\n",
    "        (x,y,w,h)=cv2.boundingRect(contour)\n",
    "        if cv2.contourArea(contour)<900:\n",
    "            continue\n",
    "        cv2.rectangle(frame1,(x,y),(x+w,y+h),(0,255,0),2)\n",
    "        cv2.putText(frame1,\"Status: {}\".format('Movement'),(10,10),\n",
    "                    cv2.FONT_HERSHEY_SIMPLEX,1,(0,0,255,),3)\n",
    "    image = cv2.resize(frame1,(1280,720))\n",
    "    out.write(image)\n",
    "    cv2.imshow(\"motion detection\",frame1)\n",
    "    frame1 =frame2\n",
    "    ret,frame2 = cap.read()\n",
    "    if cv2.waitKey(60) ==27:\n",
    "        break\n",
    "cv2.destroyAllWindows()\n",
    "cap.release()\n",
    "out.out.release()\n"
   ]
  },
  {
   "cell_type": "code",
   "execution_count": null,
   "metadata": {},
   "outputs": [],
   "source": []
  }
 ],
 "metadata": {
  "kernelspec": {
   "display_name": "base",
   "language": "python",
   "name": "python3"
  },
  "language_info": {
   "codemirror_mode": {
    "name": "ipython",
    "version": 3
   },
   "file_extension": ".py",
   "mimetype": "text/x-python",
   "name": "python",
   "nbconvert_exporter": "python",
   "pygments_lexer": "ipython3",
   "version": "3.10.9"
  },
  "orig_nbformat": 4
 },
 "nbformat": 4,
 "nbformat_minor": 2
}
