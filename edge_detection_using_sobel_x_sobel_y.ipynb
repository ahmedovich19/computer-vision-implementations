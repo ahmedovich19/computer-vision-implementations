{
 "cells": [
  {
   "cell_type": "code",
   "execution_count": 2,
   "metadata": {},
   "outputs": [],
   "source": [
    "import cv2\n",
    "import numpy as np\n",
    "from matplotlib import pyplot as plt"
   ]
  },
  {
   "cell_type": "code",
   "execution_count": 4,
   "metadata": {},
   "outputs": [],
   "source": [
    "img = cv2.imread('images/sudoku.jpg')\n",
    "lap = cv2.Laplacian(img,cv2.CV_64F,ksize=3)\n",
    "lap = np.uint8(np.absolute(lap))\n",
    "\n",
    "sobel_X = cv2.Sobel(img,cv2.CV_64F,1,0)\n",
    "sobel_y = cv2.Sobel(img,cv2.CV_64F,0,1)\n",
    "\n",
    "sobel_X = np.uint8(np.absolute(sobel_X))\n",
    "sobel_y = np.uint8(np.absolute(sobel_y))\n",
    "\n",
    "compine_sobel_X_and_y = cv2.bitwise_or(sobel_X,sobel_y)\n",
    "\n",
    "cv2.imshow('img',img)\n",
    "cv2.imshow('laplacian image',lap)\n",
    "cv2.imshow('sobel_X',sobel_X)\n",
    "cv2.imshow('sobel_y',sobel_y)\n",
    "cv2.imshow('compine_sobel_X_and_y',compine_sobel_X_and_y)\n",
    "cv2.waitKey(0)\n",
    "cv2.destroyAllWindows()"
   ]
  }
 ],
 "metadata": {
  "kernelspec": {
   "display_name": "base",
   "language": "python",
   "name": "python3"
  },
  "language_info": {
   "codemirror_mode": {
    "name": "ipython",
    "version": 3
   },
   "file_extension": ".py",
   "mimetype": "text/x-python",
   "name": "python",
   "nbconvert_exporter": "python",
   "pygments_lexer": "ipython3",
   "version": "3.10.9"
  },
  "orig_nbformat": 4
 },
 "nbformat": 4,
 "nbformat_minor": 2
}
