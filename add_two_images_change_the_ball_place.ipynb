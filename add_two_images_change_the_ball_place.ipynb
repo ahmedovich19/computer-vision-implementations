{
 "cells": [
  {
   "cell_type": "code",
   "execution_count": null,
   "metadata": {},
   "outputs": [],
   "source": [
    "import cv2"
   ]
  },
  {
   "cell_type": "code",
   "execution_count": null,
   "metadata": {},
   "outputs": [],
   "source": [
    "img = cv2.imread(\"images/messi.jpg\")\n",
    "img2 = cv2.imread(\"images/apple.png\")\n",
    "print(img.shape)\n",
    "print(img2.shape)\n",
    "print(img.size)\n",
    "print(img2.size)\n",
    "print(img.dtype)\n",
    "#448,410\n",
    "#512,467"
   ]
  },
  {
   "cell_type": "code",
   "execution_count": null,
   "metadata": {},
   "outputs": [],
   "source": [
    "b,g,r =cv2.split(img)\n",
    "img = cv2.merge((b,g,r))"
   ]
  },
  {
   "cell_type": "code",
   "execution_count": null,
   "metadata": {},
   "outputs": [],
   "source": [
    "\n",
    "#ball = img[410:470,448:515] #putting the ball \n",
    "#img[400:460,113:180] = ball#into another place\n",
    "#change the size of apple and messi image and mix them\n",
    "img = cv2.resize(img,(300,300))\n",
    "img2 = cv2.resize(img2,(300,300))\n",
    "##normal way add two images\n",
    "#dst = cv2.add(img,img2)\n",
    "#change the degree of the appearance of two images \n",
    "dst = cv2.addWeighted(\n",
    "    img,\n",
    "    .5,\n",
    "    img2,\n",
    "    .5,\n",
    "    100#if gamma 0 the brighteness will more dark if it 100 it will be bright\n",
    ")\n"
   ]
  },
  {
   "cell_type": "code",
   "execution_count": null,
   "metadata": {},
   "outputs": [],
   "source": [
    "cv2.imshow(\"frame\",dst)\n",
    "cv2.waitKey(0)\n",
    "cv2.destroyAllWindows() "
   ]
  }
 ],
 "metadata": {
  "kernelspec": {
   "display_name": "base",
   "language": "python",
   "name": "python3"
  },
  "language_info": {
   "codemirror_mode": {
    "name": "ipython",
    "version": 3
   },
   "file_extension": ".py",
   "mimetype": "text/x-python",
   "name": "python",
   "nbconvert_exporter": "python",
   "pygments_lexer": "ipython3",
   "version": "3.10.9"
  },
  "orig_nbformat": 4
 },
 "nbformat": 4,
 "nbformat_minor": 2
}
