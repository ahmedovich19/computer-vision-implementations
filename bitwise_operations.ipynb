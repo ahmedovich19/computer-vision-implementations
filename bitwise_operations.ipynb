{
 "cells": [
  {
   "cell_type": "code",
   "execution_count": null,
   "metadata": {},
   "outputs": [],
   "source": [
    "import cv2\n",
    "import numpy as np"
   ]
  },
  {
   "cell_type": "code",
   "execution_count": null,
   "metadata": {},
   "outputs": [],
   "source": [
    "img1 = np.zeros((250,500,3),np.uint8)\n",
    "img1 = cv2.rectangle(img1,(200,0),(300,100),(255,255,255),-1)\n",
    "img2 = np.full((250,500,3),255,dtype=np.uint8)\n",
    "img2 = cv2.rectangle(img2,(0,0),(250,250),(0,0,0),-1)\n",
    "\n",
    "bitAnd = cv2.bitwise_and(img2,img1)\n",
    "bitOr = cv2.bitwise_or(img2,img1)\n",
    "bitXor = cv2.bitwise_xor(img1,img2)\n",
    "bitNot1 = cv2.bitwise_not(img1)\n",
    "bitNot2 =cv2.bitwise_not(img2)\n"
   ]
  },
  {
   "cell_type": "code",
   "execution_count": null,
   "metadata": {},
   "outputs": [],
   "source": [
    "cv2.imshow(\"img1\",img1)\n",
    "cv2.imshow(\"img2\",img2)\n",
    "cv2.imshow('bitAnd',bitAnd)\n",
    "cv2.imshow('bitOr',bitOr)\n",
    "cv2.imshow('bitXor',bitXor)\n",
    "cv2.imshow('bitNot1',bitNot1)\n",
    "cv2.imshow('bitNot2',bitNot2)\n",
    "cv2.waitKey(0)\n",
    "cv2.destroyAllWindows()"
   ]
  }
 ],
 "metadata": {
  "language_info": {
   "name": "python"
  },
  "orig_nbformat": 4
 },
 "nbformat": 4,
 "nbformat_minor": 2
}
