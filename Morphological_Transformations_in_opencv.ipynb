{
 "cells": [
  {
   "cell_type": "code",
   "execution_count": 1,
   "metadata": {},
   "outputs": [],
   "source": [
    "import cv2\n",
    "import numpy as np\n",
    "from matplotlib import pyplot as plt"
   ]
  },
  {
   "cell_type": "code",
   "execution_count": 3,
   "metadata": {},
   "outputs": [],
   "source": [
    "img = cv2.imread('images/smarties.jpg',0)\n",
    "_,mask = cv2.threshold(img,220,225,cv2.THRESH_BINARY_INV)\n",
    "\n",
    "kernel = np.ones((5,5),np.uint8)\n",
    "dilation = cv2.dilate(mask,kernel,iterations=2)\n",
    "erosion = cv2.erode(mask, kernel,iterations=1)\n",
    "opening = cv2.morphologyEx(mask,cv2.MORPH_OPEN,kernel,iterations=1)\n",
    "closing = cv2.morphologyEx(mask,cv2.MORPH_CLOSE,kernel,iterations=1)"
   ]
  },
  {
   "cell_type": "code",
   "execution_count": 4,
   "metadata": {},
   "outputs": [],
   "source": [
    "cv2.imshow('gray img',img)\n",
    "cv2.imshow('mask',mask)\n",
    "cv2.imshow('after dilation',dilation)\n",
    "cv2.imshow('after erosion',erosion)\n",
    "cv2.imshow('after opening',opening)\n",
    "cv2.imshow('after closing',closing)\n",
    "cv2.waitKey(0)\n",
    "cv2.destroyAllWindows()"
   ]
  },
  {
   "cell_type": "code",
   "execution_count": null,
   "metadata": {},
   "outputs": [],
   "source": []
  }
 ],
 "metadata": {
  "kernelspec": {
   "display_name": "base",
   "language": "python",
   "name": "python3"
  },
  "language_info": {
   "codemirror_mode": {
    "name": "ipython",
    "version": 3
   },
   "file_extension": ".py",
   "mimetype": "text/x-python",
   "name": "python",
   "nbconvert_exporter": "python",
   "pygments_lexer": "ipython3",
   "version": "3.10.9"
  },
  "orig_nbformat": 4
 },
 "nbformat": 4,
 "nbformat_minor": 2
}
